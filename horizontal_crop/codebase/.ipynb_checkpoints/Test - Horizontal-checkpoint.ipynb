{
 "cells": [
  {
   "cell_type": "code",
   "execution_count": 1,
   "metadata": {
    "hide_input": true
   },
   "outputs": [
    {
     "data": {
      "application/javascript": [
       "if($(IPython.toolbar.selector.concat(' > #kill-run-all')).length == 0){\n",
       "  IPython.toolbar.add_buttons_group([\n",
       "        {\n",
       "             'label'   : 'kill and run-all2',\n",
       "             'icon'    : 'fa fa-angle-double-down',\n",
       "             'callback': function(){\n",
       "                 IPython.notebook.kernel.restart();\n",
       "                 $(IPython.events).one('kernel_ready.Kernel',\n",
       "                                       function(){IPython.notebook.execute_all_cells();});\n",
       "             }\n",
       "        }\n",
       "    ], 'kill-run-all');\n",
       "}"
      ],
      "text/plain": [
       "<IPython.core.display.Javascript object>"
      ]
     },
     "metadata": {},
     "output_type": "display_data"
    }
   ],
   "source": [
    "%%javascript\n",
    "if($(IPython.toolbar.selector.concat(' > #kill-run-all')).length == 0){\n",
    "  IPython.toolbar.add_buttons_group([\n",
    "        {\n",
    "             'label'   : 'kill and run-all',\n",
    "             'icon'    : 'fa fa-angle-double-down',\n",
    "             'callback': function(){\n",
    "                 IPython.notebook.kernel.restart();\n",
    "                 $(IPython.events).one('kernel_ready.Kernel',\n",
    "                                       function(){IPython.notebook.execute_all_cells();});\n",
    "             }\n",
    "        }\n",
    "    ], 'kill-run-all');\n",
    "}"
   ]
  },
  {
   "cell_type": "code",
   "execution_count": 2,
   "metadata": {},
   "outputs": [
    {
     "ename": "SyntaxError",
     "evalue": "invalid syntax (ImageCropper.py, line 65)",
     "output_type": "error",
     "traceback": [
      "Traceback \u001b[0;36m(most recent call last)\u001b[0m:\n",
      "  File \u001b[1;32m\"/usr/local/lib/python3.6/site-packages/IPython/core/interactiveshell.py\"\u001b[0m, line \u001b[1;32m2862\u001b[0m, in \u001b[1;35mrun_code\u001b[0m\n    exec(code_obj, self.user_global_ns, self.user_ns)\n",
      "  File \u001b[1;32m\"<ipython-input-2-2f4149091429>\"\u001b[0m, line \u001b[1;32m4\u001b[0m, in \u001b[1;35m<module>\u001b[0m\n    import Main\n",
      "  File \u001b[1;32m\"/Users/alextruesdale/Documents/moodys_code/WIP/horizontal_crop/codebase/Main.py\"\u001b[0m, line \u001b[1;32m7\u001b[0m, in \u001b[1;35m<module>\u001b[0m\n    import ImageOperator\n",
      "\u001b[0;36m  File \u001b[0;32m\"/Users/alextruesdale/Documents/moodys_code/WIP/horizontal_crop/codebase/ImageOperator.py\"\u001b[0;36m, line \u001b[0;32m4\u001b[0;36m, in \u001b[0;35m<module>\u001b[0;36m\u001b[0m\n\u001b[0;31m    from ImageCropper import ImageCropper\u001b[0m\n",
      "\u001b[0;36m  File \u001b[0;32m\"/Users/alextruesdale/Documents/moodys_code/WIP/horizontal_crop/codebase/ImageCropper.py\"\u001b[0;36m, line \u001b[0;32m65\u001b[0m\n\u001b[0;31m    print(list(split_range.index[split_range['values']))\u001b[0m\n\u001b[0m                                                      ^\u001b[0m\n\u001b[0;31mSyntaxError\u001b[0m\u001b[0;31m:\u001b[0m invalid syntax\n"
     ]
    }
   ],
   "source": [
    "\"\"\"Top-level project Main function.\"\"\"\n",
    "\n",
    "import os\n",
    "import Main\n",
    "\n",
    "os.chdir(\"/Users/alextruesdale/Documents/moodys_code/WIP/white-gray_check/raw\")"
   ]
  },
  {
   "cell_type": "code",
   "execution_count": null,
   "metadata": {
    "scrolled": false
   },
   "outputs": [],
   "source": [
    "Main.main()"
   ]
  }
 ],
 "metadata": {
  "celltoolbar": "Raw Cell Format",
  "kernelspec": {
   "display_name": "Python 3",
   "language": "python",
   "name": "python3"
  },
  "language_info": {
   "codemirror_mode": {
    "name": "ipython",
    "version": 3
   },
   "file_extension": ".py",
   "mimetype": "text/x-python",
   "name": "python",
   "nbconvert_exporter": "python",
   "pygments_lexer": "ipython3",
   "version": "3.6.3"
  }
 },
 "nbformat": 4,
 "nbformat_minor": 2
}
