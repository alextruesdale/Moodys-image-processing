{
 "cells": [
  {
   "cell_type": "code",
   "execution_count": 1,
   "metadata": {
    "hide_input": true
   },
   "outputs": [
    {
     "data": {
      "application/javascript": [
       "if($(IPython.toolbar.selector.concat(' > #kill-run-all')).length == 0){\n",
       "  IPython.toolbar.add_buttons_group([\n",
       "        {\n",
       "             'label'   : 'kill and run-all',\n",
       "             'icon'    : 'fa fa-angle-double-down',\n",
       "             'callback': function(){\n",
       "                 IPython.notebook.kernel.restart();\n",
       "                 $(IPython.events).one('kernel_ready.Kernel',\n",
       "                                       function(){IPython.notebook.execute_all_cells();});\n",
       "             }\n",
       "        }\n",
       "    ], 'kill-run-all');\n",
       "}"
      ],
      "text/plain": [
       "<IPython.core.display.Javascript object>"
      ]
     },
     "metadata": {},
     "output_type": "display_data"
    }
   ],
   "source": [
    "%%javascript\n",
    "if($(IPython.toolbar.selector.concat(' > #kill-run-all')).length == 0){\n",
    "  IPython.toolbar.add_buttons_group([\n",
    "        {\n",
    "             'label'   : 'kill and run-all',\n",
    "             'icon'    : 'fa fa-angle-double-down',\n",
    "             'callback': function(){\n",
    "                 IPython.notebook.kernel.restart();\n",
    "                 $(IPython.events).one('kernel_ready.Kernel',\n",
    "                                       function(){IPython.notebook.execute_all_cells();});\n",
    "             }\n",
    "        }\n",
    "    ], 'kill-run-all');\n",
    "}"
   ]
  },
  {
   "cell_type": "code",
   "execution_count": 2,
   "metadata": {},
   "outputs": [],
   "source": [
    "\"\"\"Top-level project Main function.\"\"\"\n",
    "\n",
    "import os\n",
    "import Main\n",
    "\n",
    "os.chdir(\"/Users/alextruesdale/Documents/moodys_code/WIP/text_dictionaries/text_operations_xml_strip\")"
   ]
  },
  {
   "cell_type": "code",
   "execution_count": 3,
   "metadata": {
    "scrolled": false
   },
   "outputs": [
    {
     "name": "stdout",
     "output_type": "stream",
     "text": [
      "../text_output/xml_directory/Industrials_1930_raw_image.xml\n",
      "[[-1, False], [166.5, 'center', True], [282.5, 'center', False]]\n",
      "[[-1, False], [283.5, 'thirds', True]]\n",
      "Duration: 1515.88 seconds\n"
     ]
    }
   ],
   "source": [
    "Main.main()"
   ]
  }
 ],
 "metadata": {
  "celltoolbar": "Raw Cell Format",
  "kernelspec": {
   "display_name": "Python 3",
   "language": "python",
   "name": "python3"
  },
  "language_info": {
   "codemirror_mode": {
    "name": "ipython",
    "version": 3
   },
   "file_extension": ".py",
   "mimetype": "text/x-python",
   "name": "python",
   "nbconvert_exporter": "python",
   "pygments_lexer": "ipython3",
   "version": "3.6.3"
  }
 },
 "nbformat": 4,
 "nbformat_minor": 2
}
